{
 "cells": [
  {
   "cell_type": "markdown",
   "metadata": {},
   "source": [
    "### Imports and Create Spark Session"
   ]
  },
  {
   "cell_type": "code",
   "execution_count": 18,
   "metadata": {},
   "outputs": [],
   "source": [
    "from pyspark.sql import SparkSession\n",
    "from datetime import datetime\n",
    "from pyspark.storagelevel import StorageLevel\n",
    "\n",
    "spark = SparkSession.builder.appName(\"NYCCrimesAnalysisNoCache\").getOrCreate()"
   ]
  },
  {
   "cell_type": "markdown",
   "metadata": {},
   "source": [
    "### Read CSV File into Spark DataFrame "
   ]
  },
  {
   "cell_type": "markdown",
   "metadata": {},
   "source": [
    "####Note the limit of the number of rows, when you go to cache this the local machines resources might not be able to handle it"
   ]
  },
  {
   "cell_type": "code",
   "execution_count": 19,
   "metadata": {},
   "outputs": [],
   "source": [
    "nycrimes = spark.read.option(\"header\", \"true\").option(\"inferSchema\", \"true\")\\\n",
    "    .csv(r\"C:\\Users\\rich\\Data\\NYCCrimeData\\NYPD_Complaint_Data_Historic.csv\").limit(2000000)"
   ]
  },
  {
   "cell_type": "markdown",
   "metadata": {},
   "source": [
    "### Cache the DF"
   ]
  },
  {
   "cell_type": "code",
   "execution_count": null,
   "metadata": {},
   "outputs": [],
   "source": [
    "#nycrimes.cache()"
   ]
  },
  {
   "cell_type": "markdown",
   "metadata": {},
   "source": [
    "### Print DF Metadata"
   ]
  },
  {
   "cell_type": "code",
   "execution_count": 20,
   "metadata": {},
   "outputs": [
    {
     "name": "stdout",
     "output_type": "stream",
     "text": [
      "######Here is our inferred schema:\n",
      "root\n",
      " |-- CMPLNT_NUM: integer (nullable = true)\n",
      " |-- CMPLNT_FR_DT: string (nullable = true)\n",
      " |-- CMPLNT_FR_TM: string (nullable = true)\n",
      " |-- CMPLNT_TO_DT: string (nullable = true)\n",
      " |-- CMPLNT_TO_TM: string (nullable = true)\n",
      " |-- ADDR_PCT_CD: integer (nullable = true)\n",
      " |-- RPT_DT: string (nullable = true)\n",
      " |-- KY_CD: integer (nullable = true)\n",
      " |-- OFNS_DESC: string (nullable = true)\n",
      " |-- PD_CD: integer (nullable = true)\n",
      " |-- PD_DESC: string (nullable = true)\n",
      " |-- CRM_ATPT_CPTD_CD: string (nullable = true)\n",
      " |-- LAW_CAT_CD: string (nullable = true)\n",
      " |-- BORO_NM: string (nullable = true)\n",
      " |-- LOC_OF_OCCUR_DESC: string (nullable = true)\n",
      " |-- PREM_TYP_DESC: string (nullable = true)\n",
      " |-- JURIS_DESC: string (nullable = true)\n",
      " |-- JURISDICTION_CODE: integer (nullable = true)\n",
      " |-- PARKS_NM: string (nullable = true)\n",
      " |-- HADEVELOPT: string (nullable = true)\n",
      " |-- HOUSING_PSA: string (nullable = true)\n",
      " |-- X_COORD_CD: integer (nullable = true)\n",
      " |-- Y_COORD_CD: integer (nullable = true)\n",
      " |-- SUSP_AGE_GROUP: string (nullable = true)\n",
      " |-- SUSP_RACE: string (nullable = true)\n",
      " |-- SUSP_SEX: string (nullable = true)\n",
      " |-- TRANSIT_DISTRICT: integer (nullable = true)\n",
      " |-- Latitude: double (nullable = true)\n",
      " |-- Longitude: double (nullable = true)\n",
      " |-- Lat_Lon: string (nullable = true)\n",
      " |-- PATROL_BORO: string (nullable = true)\n",
      " |-- STATION_NAME: string (nullable = true)\n",
      " |-- VIC_AGE_GROUP: string (nullable = true)\n",
      " |-- VIC_RACE: string (nullable = true)\n",
      " |-- VIC_SEX: string (nullable = true)\n",
      "\n",
      "######First 5 rows\n",
      "+----------+------------+------------+------------+------------+-----------+----------+-----+----------------------------+-----+------------------------------+----------------+-----------+-------------+-----------------+-------------+----------------+-----------------+--------+----------+-----------+----------+----------+--------------+--------------+--------+----------------+------------+-------------+-----------------------------+-------------------------+------------+-------------+--------------+-------+\n",
      "|CMPLNT_NUM|CMPLNT_FR_DT|CMPLNT_FR_TM|CMPLNT_TO_DT|CMPLNT_TO_TM|ADDR_PCT_CD|RPT_DT    |KY_CD|OFNS_DESC                   |PD_CD|PD_DESC                       |CRM_ATPT_CPTD_CD|LAW_CAT_CD |BORO_NM      |LOC_OF_OCCUR_DESC|PREM_TYP_DESC|JURIS_DESC      |JURISDICTION_CODE|PARKS_NM|HADEVELOPT|HOUSING_PSA|X_COORD_CD|Y_COORD_CD|SUSP_AGE_GROUP|SUSP_RACE     |SUSP_SEX|TRANSIT_DISTRICT|Latitude    |Longitude    |Lat_Lon                      |PATROL_BORO              |STATION_NAME|VIC_AGE_GROUP|VIC_RACE      |VIC_SEX|\n",
      "+----------+------------+------------+------------+------------+-----------+----------+-----+----------------------------+-----+------------------------------+----------------+-----------+-------------+-----------------+-------------+----------------+-----------------+--------+----------+-----------+----------+----------+--------------+--------------+--------+----------------+------------+-------------+-----------------------------+-------------------------+------------+-------------+--------------+-------+\n",
      "|724718389 |09/04/2014  |17:25:00    |09/04/2014  |17:35:00    |81         |09/04/2014|344  |ASSAULT 3 & RELATED OFFENSES|101  |ASSAULT 3                     |COMPLETED       |MISDEMEANOR|BROOKLYN     |OPPOSITE OF      |STREET       |N.Y. POLICE DEPT|0                |null    |null      |NA         |1005945   |188862    |null          |null          |null    |null            |40.685040958|-73.921776995|(40.685040958, -73.921776995)|PATROL BORO BKLYN NORTH  |null        |25-44        |WHITE         |F      |\n",
      "|191133903 |10/12/2016  |07:40:00    |10/12/2016  |07:45:00    |121        |10/12/2016|109  |GRAND LARCENY               |417  |LARCENY,GRAND FROM PERSON,PURS|COMPLETED       |FELONY     |STATEN ISLAND|null             |STREET       |N.Y. POLICE DEPT|0                |null    |null      |NA         |947034    |171375    |UNKNOWN       |BLACK         |U       |null            |40.63699139 |-74.134092508|(40.63699139, -74.134092508) |PATROL BORO STATEN ISLAND|null        |45-64        |WHITE HISPANIC|F      |\n",
      "|720151206 |09/28/2012  |13:30:00    |09/28/2012  |14:00:00    |41         |10/19/2012|109  |GRAND LARCENY               |413  |LARCENY,GRAND BY FALSE PROMISE|COMPLETED       |FELONY     |BRONX        |FRONT OF         |STREET       |N.Y. POLICE DEPT|0                |NA      |null      |NA         |1014179   |239453    |null          |WHITE HISPANIC|M       |null            |40.823876276|-73.891862968|(40.823876276, -73.891862968)|PATROL BORO BRONX        |null        |45-64        |WHITE HISPANIC|F      |\n",
      "|232242098 |03/24/2015  |15:45:00    |null        |null        |46         |03/24/2015|341  |PETIT LARCENY               |339  |LARCENY,PETIT FROM OPEN AREAS,|COMPLETED       |MISDEMEANOR|BRONX        |FRONT OF         |STREET       |N.Y. POLICE DEPT|0                |null    |null      |NA         |1009041   |247401    |null          |BLACK         |M       |null            |40.845707148|-73.910398033|(40.845707148, -73.910398033)|PATROL BORO BRONX        |null        |<18          |WHITE HISPANIC|F      |\n",
      "|708078702 |05/20/2017  |04:02:00    |05/20/2017  |04:09:00    |109        |05/20/2017|344  |ASSAULT 3 & RELATED OFFENSES|101  |ASSAULT 3                     |COMPLETED       |MISDEMEANOR|QUEENS       |FRONT OF         |STREET       |N.Y. POLICE DEPT|0                |null    |null      |NA         |1031779   |217663    |25-44         |WHITE HISPANIC|M       |null            |40.763991557|-73.828425559|(40.763991557, -73.828425559)|PATROL BORO QUEENS NORTH |null        |25-44        |BLACK         |M      |\n",
      "+----------+------------+------------+------------+------------+-----------+----------+-----+----------------------------+-----+------------------------------+----------------+-----------+-------------+-----------------+-------------+----------------+-----------------+--------+----------+-----------+----------+----------+--------------+--------------+--------+----------------+------------+-------------+-----------------------------+-------------------------+------------+-------------+--------------+-------+\n",
      "only showing top 5 rows\n",
      "\n",
      "#####Row count\n",
      "2000000\n"
     ]
    }
   ],
   "source": [
    "print(\"######Here is our inferred schema:\")\n",
    "nycrimes.printSchema()\n",
    "\n",
    "print(\"######First 5 rows\")\n",
    "nycrimes.show(5,truncate=False)\n",
    "\n",
    "print(\"#####Row count\")\n",
    "print(nycrimes.count())"
   ]
  },
  {
   "cell_type": "markdown",
   "metadata": {},
   "source": [
    "### Create new DF by Selecting 2 cols, Fire Spark up to Group By,Agg those cols"
   ]
  },
  {
   "cell_type": "code",
   "execution_count": 21,
   "metadata": {},
   "outputs": [
    {
     "name": "stdout",
     "output_type": "stream",
     "text": [
      "+---------+-------+------+\n",
      "|  BORO_NM|VIC_SEX| count|\n",
      "+---------+-------+------+\n",
      "|     null|      U|     2|\n",
      "|     null|      M|  2211|\n",
      "|     null|      E|   483|\n",
      "|     null|      D|   308|\n",
      "|     null|      F|  1327|\n",
      "|     null|   null|     1|\n",
      "|    BRONX|      F|169270|\n",
      "|    BRONX|      D| 32012|\n",
      "|    BRONX|   null|    40|\n",
      "|    BRONX|      E|109824|\n",
      "|    BRONX|      M|121528|\n",
      "| BROOKLYN|      M|201522|\n",
      "| BROOKLYN|      D| 56710|\n",
      "| BROOKLYN|      F|240683|\n",
      "| BROOKLYN|      E| 94444|\n",
      "| BROOKLYN|   null|    53|\n",
      "|MANHATTAN|      M|140364|\n",
      "|MANHATTAN|      E| 87469|\n",
      "|MANHATTAN|      F|163590|\n",
      "|MANHATTAN|      D| 88106|\n",
      "+---------+-------+------+\n",
      "only showing top 20 rows\n",
      "\n",
      "###### Elapsed Time:\n",
      "0:00:08.411387\n"
     ]
    }
   ],
   "source": [
    "start = datetime.now()\n",
    "crimesByBoroVictimGender = nycrimes.select(\"BORO_NM\",\"VIC_SEX\")\n",
    "aggCrimes = crimesByBoroVictimGender.groupBy(\"BORO_NM\",\"VIC_SEX\").count().orderBy(\"BORO_NM\")\n",
    "aggCrimes.show()\n",
    "end = datetime.now()\n",
    "print(\"###### Elapsed Time:\" )\n",
    "print(end-start)"
   ]
  },
  {
   "cell_type": "markdown",
   "metadata": {},
   "source": [
    "## Important!!! Remove the persisted object!"
   ]
  },
  {
   "cell_type": "code",
   "execution_count": null,
   "metadata": {},
   "outputs": [],
   "source": [
    "#nycrimes.unpersist()"
   ]
  }
 ],
 "metadata": {
  "kernelspec": {
   "display_name": "Python 3",
   "language": "python",
   "name": "python3"
  },
  "language_info": {
   "codemirror_mode": {
    "name": "ipython",
    "version": 3
   },
   "file_extension": ".py",
   "mimetype": "text/x-python",
   "name": "python",
   "nbconvert_exporter": "python",
   "pygments_lexer": "ipython3",
   "version": "3.6.5"
  }
 },
 "nbformat": 4,
 "nbformat_minor": 2
}
